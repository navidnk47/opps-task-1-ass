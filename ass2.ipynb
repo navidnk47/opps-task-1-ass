{
 "cells": [
  {
   "cell_type": "code",
   "execution_count": null,
   "id": "1b7a707c-3652-4d47-b5aa-5c5a6dc17470",
   "metadata": {},
   "outputs": [],
   "source": [
    "Q1. Explain Class and Object with respect to Object-Oriented Programming. Give a suitable example."
   ]
  },
  {
   "cell_type": "code",
   "execution_count": 1,
   "id": "5c28f42c-9a37-4ad2-a587-50d9c70b3713",
   "metadata": {},
   "outputs": [],
   "source": [
    "class pwskills :\n",
    "    def welcome_msg(self):\n",
    "        print(\"welcome to pw skills\")"
   ]
  },
  {
   "cell_type": "code",
   "execution_count": 2,
   "id": "0759bd6a-2bbf-4c32-96b4-ce7109fa0b06",
   "metadata": {},
   "outputs": [],
   "source": [
    "rohan = pwskills()"
   ]
  },
  {
   "cell_type": "code",
   "execution_count": 3,
   "id": "7f500c32-5e8a-42a9-a903-0a20d1e60e47",
   "metadata": {},
   "outputs": [
    {
     "name": "stdout",
     "output_type": "stream",
     "text": [
      "<class '__main__.pwskills'>\n"
     ]
    }
   ],
   "source": [
    "print(type(rohan))"
   ]
  },
  {
   "cell_type": "code",
   "execution_count": 4,
   "id": "dbc32469-7162-4d1e-b01a-1167d40fa9a2",
   "metadata": {},
   "outputs": [
    {
     "name": "stdout",
     "output_type": "stream",
     "text": [
      "welcome to pw skills\n"
     ]
    }
   ],
   "source": [
    "rohan.welcome_msg()"
   ]
  },
  {
   "cell_type": "code",
   "execution_count": 5,
   "id": "88ecb29c-2040-4d11-8b1a-8e3c464980b8",
   "metadata": {},
   "outputs": [],
   "source": [
    "garav=pwskills()"
   ]
  },
  {
   "cell_type": "code",
   "execution_count": 6,
   "id": "feafdb01-261d-411d-986c-bdb57a2df3a9",
   "metadata": {},
   "outputs": [
    {
     "name": "stdout",
     "output_type": "stream",
     "text": [
      "welcome to pw skills\n"
     ]
    }
   ],
   "source": [
    "garav.welcome_msg()"
   ]
  },
  {
   "cell_type": "code",
   "execution_count": null,
   "id": "fdee7af3-cb39-40d1-8dfd-93817be32dab",
   "metadata": {},
   "outputs": [],
   "source": []
  },
  {
   "cell_type": "code",
   "execution_count": null,
   "id": "3cc40c19-c89d-4ca4-90ad-9437cea2d3d0",
   "metadata": {},
   "outputs": [],
   "source": [
    "Q2. Name the four pillars of OOPs."
   ]
  },
  {
   "cell_type": "code",
   "execution_count": null,
   "id": "e4a2e864-cae2-468b-ad78-107eead88c67",
   "metadata": {},
   "outputs": [],
   "source": [
    "The Four Pillars of Object Oriented Programming\n",
    "1) Abstraction.\n",
    "2) Encapsulation.\n",
    "3) Inheritance.\n",
    "4) Polymorphism.\n"
   ]
  },
  {
   "cell_type": "code",
   "execution_count": null,
   "id": "efc58722-d567-4a4d-a925-87414fa0e4b0",
   "metadata": {},
   "outputs": [],
   "source": []
  },
  {
   "cell_type": "code",
   "execution_count": null,
   "id": "2bc079a2-5c2a-4dd7-86b8-96cb610f996d",
   "metadata": {},
   "outputs": [],
   "source": [
    "Q3. Explain why the __init__() function is used. Give a suitable example."
   ]
  },
  {
   "cell_type": "code",
   "execution_count": null,
   "id": "f0af5620-067b-489d-9d1a-d71a680c5644",
   "metadata": {},
   "outputs": [],
   "source": [
    "ans) the __init__ is a constructor function __init__ is a inisialization "
   ]
  },
  {
   "cell_type": "code",
   "execution_count": 16,
   "id": "a0ffed7f-f8f0-4ac1-8d0b-c5532d29fa83",
   "metadata": {},
   "outputs": [],
   "source": [
    "class  pwskills1 :\n",
    "    \n",
    "    def __init__(self,phone_number,email_id,student_id):\n",
    "        self.phone_number=phone_number\n",
    "        self.email_id=email_id\n",
    "        self.student_id=student_id\n",
    "        \n",
    "    def return_student_details(self):\n",
    "        return self.student_id,self.email_id,self.phone_number"
   ]
  },
  {
   "cell_type": "code",
   "execution_count": 18,
   "id": "0ddd1390-37fe-4dbd-bebb-20522bb1050c",
   "metadata": {},
   "outputs": [],
   "source": [
    "navid=pwskills1(9373293472,\"khan@gmail.com\",231)"
   ]
  },
  {
   "cell_type": "code",
   "execution_count": 19,
   "id": "e64a7de2-49a6-4a0e-acd0-59c37659811f",
   "metadata": {},
   "outputs": [
    {
     "data": {
      "text/plain": [
       "(231, 'khan@gmail.com', 9373293472)"
      ]
     },
     "execution_count": 19,
     "metadata": {},
     "output_type": "execute_result"
    }
   ],
   "source": [
    "navid.return_student_details()"
   ]
  },
  {
   "cell_type": "code",
   "execution_count": 21,
   "id": "330e2b61-6cbe-4334-a359-57b01dd7f7e6",
   "metadata": {},
   "outputs": [
    {
     "data": {
      "text/plain": [
       "9373293472"
      ]
     },
     "execution_count": 21,
     "metadata": {},
     "output_type": "execute_result"
    }
   ],
   "source": [
    "navid.phone_number"
   ]
  },
  {
   "cell_type": "code",
   "execution_count": 22,
   "id": "c2060831-f6a1-4006-bde5-d862c791ab00",
   "metadata": {},
   "outputs": [
    {
     "data": {
      "text/plain": [
       "'khan@gmail.com'"
      ]
     },
     "execution_count": 22,
     "metadata": {},
     "output_type": "execute_result"
    }
   ],
   "source": [
    "navid.email_id"
   ]
  },
  {
   "cell_type": "code",
   "execution_count": null,
   "id": "a7ec2800-5e91-4b2d-903e-c99341ccce60",
   "metadata": {},
   "outputs": [],
   "source": []
  },
  {
   "cell_type": "code",
   "execution_count": null,
   "id": "e3294a90-a314-46f2-8316-f0697615d6c7",
   "metadata": {},
   "outputs": [],
   "source": [
    "Q4. Why self is used in OOPs?"
   ]
  },
  {
   "cell_type": "code",
   "execution_count": null,
   "id": "f61380f3-58bc-452b-9bd2-e8ed5076d110",
   "metadata": {},
   "outputs": [],
   "source": [
    "the self method allows you to access variables, attributes, and methods of a defined class in Python."
   ]
  },
  {
   "cell_type": "code",
   "execution_count": null,
   "id": "7109fa2b-1a8e-4492-92a8-b9722260f3c6",
   "metadata": {},
   "outputs": [],
   "source": []
  },
  {
   "cell_type": "code",
   "execution_count": null,
   "id": "b4fb21b7-f421-4cf4-9dc4-8ad0d4926008",
   "metadata": {},
   "outputs": [],
   "source": [
    "Q5. What is inheritance? Give an example for each type of inheritance."
   ]
  },
  {
   "cell_type": "code",
   "execution_count": null,
   "id": "13ce3ee3-404c-40a5-a970-ec8530c0c1b8",
   "metadata": {},
   "outputs": [],
   "source": [
    "inheritance"
   ]
  },
  {
   "cell_type": "code",
   "execution_count": 23,
   "id": "d4c7f845-edfe-4460-a9b7-b41f73846c79",
   "metadata": {},
   "outputs": [],
   "source": [
    "class navid:\n",
    "    def sam_nk(self):\n",
    "        print(\"we both are colaps together\")"
   ]
  },
  {
   "cell_type": "code",
   "execution_count": 25,
   "id": "630e9892-12de-4b57-a6e9-1a0f5cdac680",
   "metadata": {},
   "outputs": [],
   "source": [
    "class son(navid):\n",
    "    pass"
   ]
  },
  {
   "cell_type": "code",
   "execution_count": 27,
   "id": "72eaf746-c917-4ca6-9c8e-30fe4d16be67",
   "metadata": {},
   "outputs": [],
   "source": [
    "navid_obj=son()"
   ]
  },
  {
   "cell_type": "code",
   "execution_count": 29,
   "id": "179dc42a-d57e-4308-8d26-072d40232116",
   "metadata": {},
   "outputs": [
    {
     "name": "stdout",
     "output_type": "stream",
     "text": [
      "we both are colaps together\n"
     ]
    }
   ],
   "source": [
    "navid_obj.sam_nk()"
   ]
  },
  {
   "cell_type": "code",
   "execution_count": null,
   "id": "f2bffcc0-be13-40de-8e55-337512ddf51e",
   "metadata": {},
   "outputs": [],
   "source": []
  },
  {
   "cell_type": "code",
   "execution_count": null,
   "id": "7d99d2e5-af27-4677-aa02-df0834cac746",
   "metadata": {},
   "outputs": [],
   "source": [
    "multi level inhertitance"
   ]
  },
  {
   "cell_type": "code",
   "execution_count": 30,
   "id": "bed9bd87-1a86-4c24-8ab5-df89d4e78ab0",
   "metadata": {},
   "outputs": [],
   "source": [
    "class class1:\n",
    "    def test_class1(self):\n",
    "        print(\"this is my class1\")"
   ]
  },
  {
   "cell_type": "code",
   "execution_count": 31,
   "id": "fa4667c7-08bd-417d-939c-0efce271cc43",
   "metadata": {},
   "outputs": [],
   "source": [
    "class class2(class1):\n",
    "    def test_class2(self):\n",
    "        print(\"this is my class2\")"
   ]
  },
  {
   "cell_type": "code",
   "execution_count": 32,
   "id": "3592bb92-75fc-4e4e-8c98-67b8b4acf100",
   "metadata": {},
   "outputs": [],
   "source": [
    "class class3(class2):\n",
    "    def test_class3(self):\n",
    "        print(\"this is my class3\")"
   ]
  },
  {
   "cell_type": "code",
   "execution_count": 33,
   "id": "b4fefcd3-5a4d-49c7-bbd3-c56fda496466",
   "metadata": {},
   "outputs": [],
   "source": [
    "obj_class3 = class3()"
   ]
  },
  {
   "cell_type": "code",
   "execution_count": 34,
   "id": "1080a41e-f4a6-4b4b-9b4c-b1d9d309b69f",
   "metadata": {},
   "outputs": [
    {
     "name": "stdout",
     "output_type": "stream",
     "text": [
      "this is my class1\n"
     ]
    }
   ],
   "source": [
    "obj_class3.test_class1()"
   ]
  },
  {
   "cell_type": "code",
   "execution_count": 35,
   "id": "e0e9129d-cd5b-494e-bf6b-fffd0a9e7879",
   "metadata": {},
   "outputs": [
    {
     "name": "stdout",
     "output_type": "stream",
     "text": [
      "this is my class2\n"
     ]
    }
   ],
   "source": [
    "obj_class3.test_class2()"
   ]
  },
  {
   "cell_type": "code",
   "execution_count": null,
   "id": "985c7a2f-821e-49a0-9f4d-adb6cd80baa9",
   "metadata": {},
   "outputs": [],
   "source": []
  },
  {
   "cell_type": "code",
   "execution_count": null,
   "id": "d265524d-a1d7-4859-8e38-28c378c7b46a",
   "metadata": {},
   "outputs": [],
   "source": [
    "multi inheritance"
   ]
  },
  {
   "cell_type": "code",
   "execution_count": null,
   "id": "51ed862e-5b8b-40c5-8e65-62558470a885",
   "metadata": {},
   "outputs": [],
   "source": [
    "lass class1:\n",
    "    def test_class1(self):\n",
    "        print(\"this is my class 1\" )"
   ]
  },
  {
   "cell_type": "code",
   "execution_count": null,
   "id": "c123cef0-9c71-4c35-a0b9-0c4de15b9193",
   "metadata": {},
   "outputs": [],
   "source": [
    "class class2 :\n",
    "    def test_class2(self):\n",
    "        print(\"this is my class 2\")"
   ]
  },
  {
   "cell_type": "code",
   "execution_count": null,
   "id": "7eaf4093-bc10-4650-aff3-38e0c10992f2",
   "metadata": {},
   "outputs": [],
   "source": [
    "class class3(class1 , class2):\n",
    "    pass"
   ]
  },
  {
   "cell_type": "code",
   "execution_count": null,
   "id": "6694efed-a04d-440a-a6a6-bce3138ea1b2",
   "metadata": {},
   "outputs": [],
   "source": [
    "obj_class3= class3()"
   ]
  },
  {
   "cell_type": "code",
   "execution_count": null,
   "id": "3166c088-d6a3-4abe-b6aa-d6a341b13b7b",
   "metadata": {},
   "outputs": [],
   "source": []
  },
  {
   "cell_type": "code",
   "execution_count": null,
   "id": "8b227a82-393b-4fff-9937-5039b45234c2",
   "metadata": {},
   "outputs": [],
   "source": []
  }
 ],
 "metadata": {
  "kernelspec": {
   "display_name": "Python 3 (ipykernel)",
   "language": "python",
   "name": "python3"
  },
  "language_info": {
   "codemirror_mode": {
    "name": "ipython",
    "version": 3
   },
   "file_extension": ".py",
   "mimetype": "text/x-python",
   "name": "python",
   "nbconvert_exporter": "python",
   "pygments_lexer": "ipython3",
   "version": "3.10.8"
  }
 },
 "nbformat": 4,
 "nbformat_minor": 5
}
